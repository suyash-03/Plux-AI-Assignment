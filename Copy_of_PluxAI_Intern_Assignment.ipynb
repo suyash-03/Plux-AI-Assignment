{
  "nbformat": 4,
  "nbformat_minor": 0,
  "metadata": {
    "colab": {
      "provenance": [],
      "toc_visible": true
    },
    "kernelspec": {
      "name": "python3",
      "display_name": "Python 3"
    },
    "language_info": {
      "name": "python"
    }
  },
  "cells": [
    {
      "cell_type": "code",
      "execution_count": null,
      "metadata": {
        "cellView": "form",
        "id": "WA_6ReEDzURX"
      },
      "outputs": [],
      "source": [
        "#@title PluxAI Intern Assignment (May 22, 2024)\n",
        "\n",
        "# @markdown ### Please enter your details:\n",
        "# @markdown #### Full Name\n",
        "name = 'Suyash Singh' # @param {type:\"string\"}\n",
        "\n",
        "# @markdown #### Email  (please enter the same email as mentioned in the Plux AI application form)\n",
        "email = 'f20201540@pilani.bits-pilani.ac.in' # @param {type:\"string\"}\n",
        "\n",
        "# @markdown #### Graduation Year\n",
        "graduation_year = '2024' # @param [\"2022\", \"2023\", \"2024\", \"2025\", \"2026\"] {allow-input: true}"
      ]
    },
    {
      "cell_type": "markdown",
      "source": [
        "# Assignment Details:\n",
        "\n",
        "This assignment involves building an end-to-end question answering (Q&A) system that operates on a provided dataset containing information about investment funds and their investments. Your goal is to develop a pipeline that accurately answers user queries based on the data from two CSV files: filer.csv and investment.csv. You will implement this project in  notebook.\n",
        "\n",
        "\n",
        "### Dataset description\n",
        "\n",
        "The dataset contains two CSV files:\n",
        "\n",
        "##### filer.csv: Contains information about investment funds.\n",
        "    name: Name of the fund.\n",
        "    cik: Unique identifier for each fund.\n",
        "    series: Series of the fund.\n",
        "    series_id: Unique identifier for each series.\n",
        "    total_assets: Total assets of the fund.\n",
        "    total_liabilities: Total liabilities of the fund.\n",
        "\n",
        "##### investment.csv: Contains information about individual investments made by each fund.\n",
        "    cik: Unique identifier of the fund that made the investment.\n",
        "    investment_name: Name of the investment.\n",
        "    value_usd: Value of the investment in USD.\n",
        "    percentage_investment: Percentage of the fund's total assets invested in this particular investment.\n",
        "\n",
        "### Assignment Breakdown:\n",
        "The assignment is divided into four sections with increasing complexity:\n",
        "1. Test Setup (10 points)\n",
        "2. Basic data analysis (15 points)\n",
        "3. Basic QnA (25 points)\n",
        "4. Complex QnA (50 points)\n",
        "\n",
        "### Notes\n",
        "- If full implementation is challenging, you may provide a detailed textual description of your proposed approach and logic.\n",
        "- You are encouraged to utilize LLMs like Gemini 1.5 Pro to enhance your QnA system for this section.\n",
        "- While handling a variety of questions is valuable, your primary focus should be on the accuracy of the answers provided by your Q&A system.\n",
        "\n",
        "### Assignment Feedback\n",
        "\n",
        "P.S. Here is an anonymous [feedback link](https://forms.gle/2aLVTQU28zV2fHnF6) for the assignment. It'd be great if you can provide your feedback about the assignment as we are continuously looking to improve our recruiting process.\n"
      ],
      "metadata": {
        "id": "n9QZjygKOglN"
      }
    },
    {
      "cell_type": "code",
      "source": [
        "from google.colab import drive\n",
        "drive.mount('/content/drive')"
      ],
      "metadata": {
        "colab": {
          "base_uri": "https://localhost:8080/"
        },
        "id": "el_6ClmKqd8u",
        "outputId": "9a452d06-279f-44e5-fbfc-33c61c546cf2"
      },
      "execution_count": null,
      "outputs": [
        {
          "output_type": "stream",
          "name": "stdout",
          "text": [
            "Mounted at /content/drive\n"
          ]
        }
      ]
    },
    {
      "cell_type": "code",
      "source": [
        "#@title Test Setup (10 points)\n",
        "\n",
        "#@markdown ## Test basic understanding of pandas.\n",
        "\n",
        "#@markdown ###Complete the following tasks:\n",
        "#@markdown 1. Download filer.csv and investment.csv from [Kaggle.](https://www.kaggle.com/datasets/robotgames/sec-edgar-archive-nport-form-data-2020-quarter-1)\n",
        "#@markdown 2. Load the data into two dataframes -> filer_df and investment_df\n",
        "#@markdown 3. Implement a function which takes a firm name from filer_df and lists down all the investements made by that firm from investment_df.\n",
        "\n",
        "#@markdown > def get_investments(filer_df, investment_df, firm_name):\n",
        "#@markdown >    #Implement your code here\n",
        "#@markdown\n",
        "import pandas as pd\n",
        "\n",
        "filer_df = pd.read_csv('/content/drive/MyDrive/Plux AI Dataset/filer.csv')\n",
        "investment_df = pd.read_csv('/content/drive/MyDrive/Plux AI Dataset/investment.csv')\n",
        "\n",
        "columns_filer = filer_df.columns.tolist()\n",
        "columns_investment = investment_df.columns.tolist()\n",
        "\n",
        "\n",
        "print(columns_filer)\n",
        "print(columns_investment)"
      ],
      "metadata": {
        "id": "Ohk5hLmL1w83",
        "colab": {
          "base_uri": "https://localhost:8080/"
        },
        "collapsed": true,
        "outputId": "fac67381-bd22-426c-f4be-28e8543bef9e"
      },
      "execution_count": null,
      "outputs": [
        {
          "output_type": "stream",
          "name": "stdout",
          "text": [
            "['name', 'cik', 'series', 'series_id', 'total_assets', 'total_liabilities']\n",
            "['cik', 'investment_name', 'value_USD', 'percentage_investment']\n"
          ]
        }
      ]
    },
    {
      "cell_type": "code",
      "source": [
        "#@markdown complete the above tasks and implement this function\n",
        "  #@markdown > get_investments(filer_df, investment_df, \"1290 Funds\")\n",
        "  #@markdown > should return ['Garda World Security Corp.', 'Tempo Acquisition LLC', ...and so on]\n",
        "def get_investments(filer_df, investment_df, firm_name):\n",
        "  firm_cik = filer_df.loc[filer_df['name'] == firm_name, 'cik']\n",
        "  if firm_cik.empty:\n",
        "    return f\"No firm found with the name {firm_name}\"\n",
        "  firm_cik = firm_cik.iloc[0]\n",
        "  firm_investments = investment_df[investment_df['cik'] == firm_cik]\n",
        "  if firm_investments.empty:\n",
        "    return f\"No investments found for the firm {firm_name}\"\n",
        "  return firm_investments\n",
        "  pass\n"
      ],
      "metadata": {
        "id": "-MtsaBms4JME"
      },
      "execution_count": null,
      "outputs": []
    },
    {
      "cell_type": "code",
      "source": [
        "\n",
        "firm_investments = get_investments(filer_df,investment_df,'1290 Funds')\n",
        "print(firm_investments)"
      ],
      "metadata": {
        "colab": {
          "base_uri": "https://localhost:8080/"
        },
        "id": "WcDvEqrkxIcG",
        "outputId": "67298321-d308-4032-c336-f607513ccf32"
      },
      "execution_count": null,
      "outputs": [
        {
          "output_type": "stream",
          "name": "stdout",
          "text": [
            "             cik             investment_name  value_USD  percentage_investment\n",
            "0        1605941  Garda World Security Corp.   36531.25               0.058394\n",
            "1        1605941       Tempo Acquisition LLC   56925.00               0.090993\n",
            "2        1605941               Fortive Corp.  310285.13               0.495985\n",
            "3        1605941                  Adobe Inc.  467016.20               0.746516\n",
            "4        1605941  Beacon Roofing Supply Inc.   49735.00               0.079500\n",
            "...          ...                         ...        ...                    ...\n",
            "3242325  1605941    Manulife Financial Corp.   66232.43               0.206375\n",
            "3242326  1605941         Domino's Pizza Inc.   28175.00               0.087791\n",
            "3242327  1605941                   Kao Corp.   39952.69               0.124489\n",
            "3242328  1605941         Citrix Systems Inc.   24244.00               0.075542\n",
            "3242329  1605941                   Danone SA   52133.51               0.162444\n",
            "\n",
            "[1562 rows x 4 columns]\n"
          ]
        }
      ]
    },
    {
      "cell_type": "code",
      "source": [
        "#@title Basic data analysis (15 points)\n",
        "\n",
        "#@markdown ###Implement the following functionality:\n",
        "#@markdown 1. Get highest individual investment_name for each cik.\n",
        "#@markdown 2. Get investment_name which has occurred the most across a cik.\n",
        "#@markdown 3. Give total positive and negative investment for each cik."
      ],
      "metadata": {
        "id": "1rnfdNGd5-GP"
      },
      "execution_count": null,
      "outputs": []
    },
    {
      "cell_type": "code",
      "source": [
        "def get_highest_individual_investment(filer_df, investment_df, cik):\n",
        "  firm_investments = investment_df[investment_df['cik'] == cik]\n",
        "  if firm_investments.empty:\n",
        "    return f\"No investments found for the cik {cik}\"\n",
        "\n",
        "  highest_investment = firm_investments.loc[firm_investments['value_USD'].idxmax()]\n",
        "  return (highest_investment['cik'], highest_investment['investment_name'], highest_investment['value_USD'], highest_investment['percentage_investment'])\n",
        "\n",
        "  pass\n",
        "\n",
        "def get_most_occurred_investment_name(filer_df, investment_df, cik):\n",
        "  firm_investments = investment_df[investment_df['cik'] == cik]\n",
        "  if firm_investments.empty:\n",
        "    return f\"No investments found for the cik {cik}\"\n",
        "\n",
        "  most_occurred_investment = firm_investments['investment_name'].mode()\n",
        "  if most_occurred_investment.empty:\n",
        "    return f\"No investment names found for the cik {cik}\"\n",
        "\n",
        "  return most_occurred_investment.iloc[0]\n",
        "  pass\n",
        "\n",
        "def get_total_positive_and_negative_investment(filer_df, investment_df, cik): #check\n",
        "  firm_investments = investment_df[investment_df['cik'] == cik]\n",
        "  if firm_investments.empty:\n",
        "    return f\"No investments found for the cik {cik}\"\n",
        "\n",
        "  positive_investments = firm_investments[firm_investments['value_USD'] > 0]['value_USD'].sum()\n",
        "  negative_investments = firm_investments[firm_investments['value_USD'] < 0]['value_USD'].sum()\n",
        "\n",
        "  return {\n",
        "      'cik': cik,\n",
        "      'total_positive_investment': positive_investments,\n",
        "      'total_negative_investment': negative_investments\n",
        "  }\n",
        "\n",
        "  # i don't understand why this method should return United States of America\n",
        "  # as given in the example, i decided to do it this way\n",
        "  pass"
      ],
      "metadata": {
        "id": "8EnA64AB8CPF"
      },
      "execution_count": null,
      "outputs": []
    },
    {
      "cell_type": "code",
      "source": [
        "print(get_highest_individual_investment(filer_df, investment_df, 1605941))\n",
        "print(get_most_occurred_investment_name(filer_df, investment_df, 1605941))\n",
        "print(get_total_positive_and_negative_investment(filer_df, investment_df, 1605941))"
      ],
      "metadata": {
        "colab": {
          "base_uri": "https://localhost:8080/"
        },
        "id": "F9v6SgPEzYL1",
        "outputId": "e53e430c-a6a7-4612-c469-02a2ce93dee2"
      },
      "execution_count": null,
      "outputs": [
        {
          "output_type": "stream",
          "name": "stdout",
          "text": [
            "(1605941, 'United States of America', 15345838.8, 14.62031053041)\n",
            "United States of America\n",
            "{'cik': 1605941, 'total_positive_investment': 476635814.9, 'total_negative_investment': -857069.93}\n"
          ]
        }
      ]
    },
    {
      "cell_type": "code",
      "source": [
        "#@title Basic QnA (25 points) - LLM begins\n",
        "\n",
        "#@markdown #### You are responsible to compute the results for above functions itself but through natural language.\n",
        "#@markdown #### Implement the following function:\n",
        "#@markdown #### <code> answer_basic_query(filer_df, investment_df, query_str) </code>\n",
        "\n",
        "#@markdown ```\n",
        "#@markdown Eg. answer_basic_query(filer_df, investment_df, \"What is the most occurred investment name for cik 1605941 ?\") should return 'United States of America'\n",
        "#@markdown ```\n",
        "\n",
        "#@markdown Note: Basic query need to just handle queries specific to functions in Basic Data Analysis.\n",
        "\n"
      ],
      "metadata": {
        "id": "z6vMgBFHAEY9"
      },
      "execution_count": null,
      "outputs": []
    },
    {
      "cell_type": "code",
      "source": [
        "import re\n",
        "import nltk\n",
        "from nltk.corpus import stopwords\n",
        "from nltk.tokenize import word_tokenize\n",
        "from collections import Counter\n",
        "\n",
        "# Download necessary NLTK resources\n",
        "nltk.download('punkt')\n",
        "nltk.download('stopwords')\n",
        "\n",
        "def preprocess_query(query_str):\n",
        "    # Tokenize the query\n",
        "    tokens = word_tokenize(query_str.lower())\n",
        "\n",
        "    # Remove stop words\n",
        "    stop_words = set(stopwords.words('english'))\n",
        "    filtered_tokens = [token for token in tokens if token not in stop_words]\n",
        "\n",
        "    return filtered_tokens\n",
        "\n",
        "def classify_query(query_tokens):\n",
        "    # Define the query types and their associated keywords\n",
        "    query_types = {\n",
        "        'most_occurred': ['most', 'occurred', 'investment', 'name'],\n",
        "        'highest_individual': ['highest', 'individual', 'investment'],\n",
        "        'total_investments': ['total', 'positive', 'negative', 'investment']\n",
        "    }\n",
        "\n",
        "    # Compute the bag-of-words representation of the query\n",
        "    query_bow = Counter(query_tokens)\n",
        "\n",
        "    # Classify the query based on keyword matches\n",
        "    best_match = None\n",
        "    max_score = 0\n",
        "    for query_type, keywords in query_types.items():\n",
        "        score = sum(query_bow[keyword] for keyword in keywords)\n",
        "        if score > max_score:\n",
        "            max_score = score\n",
        "            best_match = query_type\n",
        "\n",
        "    return best_match\n",
        "\n",
        "def answer_basic_query(filer_df, investment_df, query_str):\n",
        "    # Preprocess the query string\n",
        "    query_tokens = preprocess_query(query_str)\n",
        "\n",
        "    # Classify the query\n",
        "    query_type = classify_query(query_tokens)\n",
        "\n",
        "    # Extract the CIK from the query\n",
        "    pattern = r'cik (\\d+)'\n",
        "    match = re.search(pattern, query_str)\n",
        "    if match:\n",
        "        cik = int(match.group(1))\n",
        "    else:\n",
        "        return \"Please provide a CIK in the query.\"\n",
        "\n",
        "    # Handle the query based on the classified type\n",
        "    if query_type == 'most_occurred':\n",
        "        investment_name = get_most_occurred_investment_name(filer_df, investment_df, cik)\n",
        "        return investment_name\n",
        "    elif query_type == 'highest_individual':\n",
        "        highest_investment = get_highest_individual_investment(filer_df, investment_df, cik)\n",
        "        if isinstance(highest_investment, str):\n",
        "            return highest_investment\n",
        "        else:\n",
        "            cik, investment_name, value_usd, percentage_investment = highest_investment\n",
        "            return f\"The highest individual investment for CIK {cik} is '{investment_name}' with a value of {value_usd} USD ({percentage_investment}%)\"\n",
        "    elif query_type == 'total_investments':\n",
        "        investment_totals = get_total_positive_and_negative_investment(filer_df, investment_df, cik)\n",
        "        if isinstance(investment_totals, str):\n",
        "            return investment_totals\n",
        "        else:\n",
        "            total_positive_investment = investment_totals['total_positive_investment']\n",
        "            total_negative_investment = investment_totals['total_negative_investment']\n",
        "            return f\"For CIK {cik}, the total positive investment is {total_positive_investment} USD, and the total negative investment is {total_negative_investment} USD.\"\n",
        "    else:\n",
        "        return \"I'm sorry, I couldn't understand your query. Please rephrase your question or provide more context.\""
      ],
      "metadata": {
        "id": "EJ3UlubnBibY",
        "colab": {
          "base_uri": "https://localhost:8080/"
        },
        "outputId": "c867a1a0-fd6a-4d7a-c5eb-3c70258363fc"
      },
      "execution_count": null,
      "outputs": [
        {
          "output_type": "stream",
          "name": "stderr",
          "text": [
            "[nltk_data] Downloading package punkt to /root/nltk_data...\n",
            "[nltk_data]   Unzipping tokenizers/punkt.zip.\n",
            "[nltk_data] Downloading package stopwords to /root/nltk_data...\n",
            "[nltk_data]   Unzipping corpora/stopwords.zip.\n"
          ]
        }
      ]
    },
    {
      "cell_type": "code",
      "source": [
        "answer_basic_query(filer_df, investment_df, \"What are the highest investment for cik 1605941 ?\")"
      ],
      "metadata": {
        "colab": {
          "base_uri": "https://localhost:8080/",
          "height": 36
        },
        "id": "2AafkNlT7ack",
        "outputId": "450dc5a8-0452-4ade-f5dd-9854eddc0bf0"
      },
      "execution_count": null,
      "outputs": [
        {
          "output_type": "execute_result",
          "data": {
            "text/plain": [
              "\"The highest individual investment for CIK 1605941 is 'United States of America' with a value of 15345838.8 USD (14.62031053041%)\""
            ],
            "application/vnd.google.colaboratory.intrinsic+json": {
              "type": "string"
            }
          },
          "metadata": {},
          "execution_count": 8
        }
      ]
    },
    {
      "cell_type": "code",
      "source": [
        "#@title Complex QnA (50 points) - Let your creativity break free\n",
        "\n",
        "#@markdown #### Extend the above task, but now it should answer any natural language question.\n",
        "#@markdown #### Even an approach for the task in text would be good if you are unable to implement the logic.\n",
        "#@markdown #### Implement the following function:\n",
        "#@markdown #### <code> answer_general_query(filer_df, investment_df, query) </code>"
      ],
      "metadata": {
        "id": "bL9xAGz-B9-x"
      },
      "execution_count": null,
      "outputs": []
    },
    {
      "cell_type": "code",
      "execution_count": null,
      "metadata": {
        "id": "9OEoeosRTv-5"
      },
      "outputs": [],
      "source": [
        "!pip install -q -U google-generativeai"
      ]
    },
    {
      "cell_type": "code",
      "source": [
        "import pathlib\n",
        "import re\n",
        "import textwrap\n",
        "import google.generativeai as genai\n",
        "from IPython.display import display\n",
        "from IPython.display import Markdown\n",
        "from google.colab import userdata\n",
        "\n",
        "def to_markdown(text):\n",
        "    text = text.replace('•', '  *')\n",
        "    return Markdown(textwrap.indent(text, '> ', predicate=lambda _: True))\n",
        "\n",
        "GOOGLE_API_KEY = userdata.get('API_KEY')\n",
        "genai.configure(api_key=GOOGLE_API_KEY)\n",
        "model = genai.GenerativeModel('gemini-pro')\n",
        "\n",
        "chat = model.start_chat(history=[])\n",
        "\n",
        "response = chat.send_message(\n",
        "    \"The columns in the investment.xlsx of which i have created an dataframe called investment_df are as follows: ['cik', 'investment_name', 'value_USD', 'percentage_investment']. Your task is to generate Pandas Query for me based on the user given sentences. Only write the pandas query, nothing more\"\n",
        ")\n",
        "\n",
        "user_message = input(\"Enter your question: \")\n",
        "response = chat.send_message(user_message)\n",
        "\n",
        "pattern = r'```python(.*?)```'\n",
        "match = re.search(pattern, response.text, re.DOTALL)\n",
        "if match:\n",
        "    extracted_code = match.group(1).strip()\n",
        "    print('Generated Query: ', extracted_code)\n",
        "    result = eval(extracted_code)\n",
        "    print(result)\n",
        "else:\n",
        "    print(\"No match found\")\n"
      ],
      "metadata": {
        "colab": {
          "base_uri": "https://localhost:8080/",
          "height": 86
        },
        "id": "yP61e4EhGTv0",
        "outputId": "4304b06b-9b08-4b4e-d03a-6aede3407f14"
      },
      "execution_count": null,
      "outputs": [
        {
          "output_type": "stream",
          "name": "stdout",
          "text": [
            "Enter your question: What is the highest investment for cik 1605941 ?\n",
            "Generated Query:  investment_df.query('cik == 1605941').sort_values('value_USD', ascending=False).head(1)\n",
            "             cik           investment_name   value_USD  percentage_investment\n",
            "1534935  1605941  United States of America  15345838.8              14.620311\n"
          ]
        }
      ]
    },
    {
      "cell_type": "code",
      "source": [
        "# Test Query\n",
        "top_5_investments = investment_df.groupby('investment_name')['value_USD'].sum().nlargest(5)\n",
        "print(top_5_investments)\n"
      ],
      "metadata": {
        "id": "oBN-8_HuCtcZ",
        "colab": {
          "base_uri": "https://localhost:8080/"
        },
        "outputId": "75c6a47b-ecb7-4a7d-95cd-fb96f6c7b9ec"
      },
      "execution_count": null,
      "outputs": [
        {
          "output_type": "stream",
          "name": "stdout",
          "text": [
            "investment_name\n",
            "United States Treasury Note/Bond                 5.174040e+11\n",
            "United States Treasury                           3.196985e+11\n",
            "Vanguard Total Stock Market Index Fund           2.336022e+11\n",
            "Vanguard Total International Stock Index Fund    1.560102e+11\n",
            "Microsoft Corp.                                  1.476043e+11\n",
            "Name: value_USD, dtype: float64\n"
          ]
        }
      ]
    }
  ]
}